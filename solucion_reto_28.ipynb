{
 "cells": [
  {
   "cell_type": "code",
   "execution_count": 18,
   "metadata": {},
   "outputs": [],
   "source": [
    "# Reto #28\n",
    "# MÁQUINA EXPENDEDORA\n",
    "# Fecha publicación enunciado: 11/07/22\n",
    "# Fecha publicación resolución: 18/07/22\n",
    "# Dificultad: MEDIA\n",
    "\n",
    "# Enunciado: Simula el funcionamiento de una máquina expendedora creando una operación\n",
    "# que reciba dinero (array de monedas) y un número que indique la selección del producto.\n",
    "# El programa retornará el nombre del producto y un array con el dinero de vuelta (con el menor número de monedas).\n",
    "# Si el dinero es insuficiente o el número de producto no existe, deberá indicarse con un mensaje y retornar todas las monedas.\n",
    "# Si no hay dinero de vuelta, el array se retornará vacío.\n",
    "# Para que resulte más simple, trabajaremos en céntimos con monedas de 5, 10, 50, 100 y 200.\n",
    "# Debemos controlar que las monedas enviadas estén dentro de las soportadas.\n",
    "\n",
    "# Información adicional:\n",
    "# Usa el canal de nuestro discord (https://mouredev.com/discord) \"🔁reto-semanal\" para preguntas, dudas o prestar ayuda a la comunidad.\n",
    "# Puedes hacer un Fork del repo y una Pull Request al repo original para que veamos tu solución aportada.\n",
    "# Revisaré el ejercicio en directo desde Twitch el lunes siguiente al de su publicación.\n",
    "# Subiré una posible solución al ejercicio el lunes siguiente al de su publicación.\n"
   ]
  },
  {
   "cell_type": "code",
   "execution_count": 19,
   "metadata": {},
   "outputs": [],
   "source": [
    "import numpy as np"
   ]
  },
  {
   "cell_type": "code",
   "execution_count": 32,
   "metadata": {},
   "outputs": [],
   "source": [
    "#products and price definition\n",
    "\n",
    "products = [\"Coca-cola\", \"Pepsi\", \"Oreos\", \"Galletas\", \"Agua\", \"Frutos secos\", \"Zumo\", \"Patatas\"]\n",
    "price = [2.5, 2, 3.5, 3.5, 1, 2, 2.5, 3]"
   ]
  },
  {
   "cell_type": "code",
   "execution_count": 33,
   "metadata": {},
   "outputs": [
    {
     "name": "stdout",
     "output_type": "stream",
     "text": [
      "Introduce monedas o 0 cuando quieras acabar: 200\n",
      "Introduce monedas o 0 cuando quieras acabar: 200\n",
      "Introduce monedas o 0 cuando quieras acabar: 200\n",
      "Introduce monedas o 0 cuando quieras acabar: 100\n",
      "Introduce monedas o 0 cuando quieras acabar: 20\n",
      "Introduce monedas o 0 cuando quieras acabar: 4\n",
      "Devolviendo moneda 4\n",
      "Introduce monedas o 0 cuando quieras acabar: 45\n",
      "Devolviendo moneda 45\n",
      "Introduce monedas o 0 cuando quieras acabar: 1\n",
      "Introduce monedas o 0 cuando quieras acabar: 5\n",
      "Introduce monedas o 0 cuando quieras acabar: 2\n",
      "Introduce monedas o 0 cuando quieras acabar: 0\n",
      "Dinero introducido: [200, 200, 200, 100, 20, 1, 5, 2]\n"
     ]
    }
   ],
   "source": [
    "#introducing coins \n",
    "permitted_coins = [1, 2, 5, 10, 20, 50, 100, 200]\n",
    "\n",
    "cash = []\n",
    "coin = int(input(\"Introduce monedas o 0 cuando quieras acabar: \"))\n",
    "\n",
    "while(coin != 0):\n",
    "    if(coin in permitted_coins):\n",
    "        cash.append(coin)\n",
    "    else:\n",
    "        print(\"Devolviendo moneda \"+str(coin))\n",
    "    coin = int(input(\"Introduce monedas o 0 cuando quieras acabar: \")  )\n",
    "\n",
    "print(\"Dinero introducido: \"+ str(cash))"
   ]
  },
  {
   "cell_type": "code",
   "execution_count": 34,
   "metadata": {},
   "outputs": [
    {
     "name": "stdout",
     "output_type": "stream",
     "text": [
      "0 - Coca-cola: 2.5€\n",
      "1 - Pepsi: 2€\n",
      "2 - Oreos: 3.5€\n",
      "3 - Galletas: 3.5€\n",
      "4 - Agua: 1€\n",
      "5 - Frutos secos: 2€\n",
      "6 - Zumo: 2.5€\n",
      "7 - Patatas: 3€\n",
      "Seleccione un producto: 4\n",
      "Producto seleccionado: 4\n"
     ]
    }
   ],
   "source": [
    "#selecting product\n",
    "for i in range(len(products)):\n",
    "    print(str(i)+\" - \"+str(products[i])+\": \"+str(price[i])+\"€\")\n",
    "\n",
    "selection = int(input(\"Seleccione un producto: \"))\n",
    "if(selection <= 7 and selection >= 0):\n",
    "    print(\"Producto seleccionado: \"+ str(selection))\n",
    "    good = True\n",
    "    if(np.sum(np.array(cash))<price[selection]*100):\n",
    "        print(\"Dinero insuficiente, devolviendo monedas: \"+ str(cash))\n",
    "        good = False\n",
    "else:\n",
    "    print(\"Producto no valido, devolviendo monedas: \"+ str(cash))\n",
    "    good = False"
   ]
  },
  {
   "cell_type": "code",
   "execution_count": 36,
   "metadata": {},
   "outputs": [
    {
     "name": "stdout",
     "output_type": "stream",
     "text": [
      "Su producto es: Agua\n",
      "Cambio: [200, 200, 200, 20, 5, 2, 1]\n"
     ]
    }
   ],
   "source": [
    "#return product and coins\n",
    "if(good):\n",
    "    print(\"Su producto es: \"+ products[selection])\n",
    "    change = np.sum(np.array(cash)) - price[selection]*100 \n",
    "    change_cash = []\n",
    "\n",
    "    i = len(permitted_coins)-1\n",
    "    while(i != -1):\n",
    "        if(permitted_coins[i] <= change):\n",
    "            if(change >= (np.sum(np.array(change_cash))+permitted_coins[i])):\n",
    "                change_cash.append(permitted_coins[i])\n",
    "            else:\n",
    "                i -= 1\n",
    "        else:\n",
    "            i -= 1\n",
    "\n",
    "    print(\"Cambio: \" + str(change_cash))"
   ]
  },
  {
   "cell_type": "code",
   "execution_count": null,
   "metadata": {},
   "outputs": [],
   "source": []
  }
 ],
 "metadata": {
  "interpreter": {
   "hash": "a05f93782d31fb45d30263a0389582a01d7e14abf3ec6aacde92652303ee35ce"
  },
  "kernelspec": {
   "display_name": "Python 3 (ipykernel)",
   "language": "python",
   "name": "python3"
  },
  "language_info": {
   "codemirror_mode": {
    "name": "ipython",
    "version": 3
   },
   "file_extension": ".py",
   "mimetype": "text/x-python",
   "name": "python",
   "nbconvert_exporter": "python",
   "pygments_lexer": "ipython3",
   "version": "3.8.10"
  }
 },
 "nbformat": 4,
 "nbformat_minor": 2
}
